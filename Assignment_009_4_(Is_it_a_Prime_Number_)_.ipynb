{
  "nbformat": 4,
  "nbformat_minor": 0,
  "metadata": {
    "colab": {
      "name": "Assignment-009/4 (Is it a Prime Number?) .ipynb",
      "provenance": []
    },
    "kernelspec": {
      "name": "python3",
      "display_name": "Python 3"
    },
    "language_info": {
      "name": "python"
    }
  },
  "cells": [
    {
      "cell_type": "code",
      "metadata": {
        "colab": {
          "base_uri": "https://localhost:8080/"
        },
        "id": "4T7hZTxIYzqZ",
        "outputId": "090331b8-47e2-4bff-8158-ca92a6116978"
      },
      "source": [
        "num = int(input('Enter a number: '))\n",
        "if num > 1:\n",
        "  for i in range(2,num):\n",
        "    if (num % i) == 0:\n",
        "      print(num, \"is not a prime number\")\n",
        "      break\n",
        "  else:\n",
        "    print(num, \"is a prime number\")"
      ],
      "execution_count": 5,
      "outputs": [
        {
          "output_type": "stream",
          "text": [
            "Enter a number: 7\n",
            "7 is a prime number\n"
          ],
          "name": "stdout"
        }
      ]
    },
    {
      "cell_type": "code",
      "metadata": {
        "id": "BKqUyUHjaUn3"
      },
      "source": [
        ""
      ],
      "execution_count": 1,
      "outputs": []
    }
  ]
}